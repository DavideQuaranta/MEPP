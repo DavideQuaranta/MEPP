{
 "cells": [
  {
   "cell_type": "markdown",
   "id": "0bfa2143",
   "metadata": {},
   "source": [
    "# Homework n.1\n",
    "\n",
    "Evaluate numerically and plot graphically the convolution integral of the\n",
    "energy spectrum f(E) with a gaussian resolution g(E) defined below.\n",
    "\n",
    ">$f(E) = a_1 f_1(E) + a_2 f_2(E) + a_3 f_3(E)$\n",
    "\n",
    "where:\n",
    "\n",
    ">$f_1(E)= 1/E \\quad \\text{for}  \\quad 0.1 < E < 0.92 MeV$\n",
    ">\n",
    ">$f_1(E)= 0 \\quad \\text{for}  \\quad E <0.1 or E> 0.92 MeV$\n",
    ">\n",
    ">$f_2(E)=G(μ=1.17 MeV, \\sigma=0.001 MeV)$\n",
    ">\n",
    ">$f_3(E)=G(μ=1.33 MeV, \\sigma=0.001 MeV)$\n",
    ">\n",
    ">$a_1 = 1$;\n",
    ">$a_2 = 0.9$;\n",
    ">$a_3 = 0.8$\n",
    "\n",
    " Consider the following cases:\n",
    " 1. g(E)=G(E,s) with s/E = 5%/√E(MeV)\n",
    " 2. g(E)=G(E,s) with s/E = 10%/√E(MeV)\n",
    " 3. g(E)=G(E,s) with s/E = 30%/√E(MeV)\n",
    " 4. g(E)=G(E,s) with s/E = 1%/√E(MeV)\n",
    " \n",
    "(optional) Invent yourself an f(E) distribution with sharp edges or peaks and\n",
    "repeat the previous exercise to point out the effect of different resolutions on f(E)."
   ]
  },
  {
   "cell_type": "markdown",
   "id": "4fe7dfc2",
   "metadata": {},
   "source": [
    "## Solution"
   ]
  },
  {
   "cell_type": "code",
   "execution_count": null,
   "id": "6abbc91f",
   "metadata": {},
   "outputs": [],
   "source": [
    "import numpy as np\n",
    "import matplotlib.pyplot as plt\n",
    "from scipy.integrate import quad\n",
    "from numpy import vectorize"
   ]
  },
  {
   "cell_type": "markdown",
   "id": "cdd91580",
   "metadata": {},
   "source": [
    "We define the functions Gaussian and f(E) and vectorize them in order to pass a vector as an argument."
   ]
  },
  {
   "cell_type": "code",
   "execution_count": null,
   "id": "ec899689",
   "metadata": {},
   "outputs": [],
   "source": [
    "def Gaussian(x,mean, sigma):\n",
    "    return (1/np.sqrt(2*np.pi*sigma**2))*np.exp(-(x-mean)**2/(2*sigma**2))\n",
    "\n",
    "\n",
    "def f1(x):\n",
    "    if (x < 0.1 or x > 0.92) :\n",
    "        return 0.\n",
    "    else :\n",
    "        return float(1/x)\n",
    "vf1 = vectorize(f1)\n",
    "\n",
    "\n",
    "\n",
    "def f(x):\n",
    "    return 0.9*Gaussian(x,1.17,0.001) + 0.8*Gaussian(x,1.3,0.001) + 1*vf1(x)\n",
    "\n",
    "vf = vectorize(f)"
   ]
  },
  {
   "cell_type": "markdown",
   "id": "0f3cd2f0",
   "metadata": {},
   "source": [
    "Then we define the function we want to integrate and a function to make the convolution."
   ]
  },
  {
   "cell_type": "code",
   "execution_count": null,
   "id": "93c9a43e",
   "metadata": {},
   "outputs": [],
   "source": [
    "def integrand(t, x, percent):\n",
    "    return f(t)*Gaussian(t,x,percent*np.sqrt(x))\n",
    "\n",
    "\n",
    "\n",
    "def convolve(step, x0, percent):\n",
    "    dx = step\n",
    "    t = np.arange(0,100,step)\n",
    "    return np.sum(dx*integrand(t,x0,percent))\n",
    "\n",
    "vconvolve = vectorize(convolve)"
   ]
  },
  {
   "cell_type": "markdown",
   "id": "fa97bbff",
   "metadata": {},
   "source": [
    "Then we need a vector for the coordinates on the x axis"
   ]
  },
  {
   "cell_type": "code",
   "execution_count": null,
   "id": "800c768d",
   "metadata": {},
   "outputs": [],
   "source": [
    "a = 0.01\n",
    "b = 2\n",
    "dx = 0.005\n",
    "x = np.arange(a,b,dx)"
   ]
  },
  {
   "cell_type": "markdown",
   "id": "0f23feb3",
   "metadata": {},
   "source": [
    "And finally we convolve f(E) with the resolution for the requested cases. The variable step characterizes the width of the increment dE."
   ]
  },
  {
   "cell_type": "code",
   "execution_count": null,
   "id": "cfef2f75",
   "metadata": {},
   "outputs": [],
   "source": [
    "step = 0.005\n",
    "y = vconvolve(step,x,0.05)\n",
    "y1=vconvolve(step, x,0.1)\n",
    "y2=vconvolve(step,x,0.3)\n",
    "y3=vconvolve(step,x,0.01)"
   ]
  },
  {
   "cell_type": "code",
   "execution_count": null,
   "id": "e8a083ee",
   "metadata": {},
   "outputs": [],
   "source": [
    "import matplotlib_inline\n",
    "matplotlib_inline.backend_inline.set_matplotlib_formats('svg')\n",
    "plt.title('Convolution of an energy spectrum with a gaussian resolution')\n",
    "plt.plot(x, vf(x),lw = 2, label = 'Truth', alpha = 0.7)\n",
    "plt.plot(x, y,lw = 2, label = '5%', alpha = 0.7)\n",
    "plt.plot(x,y1,lw = 2, label = '10%', alpha = 0.7)\n",
    "plt.plot(x,y2,lw = 2, label = '30%', alpha = 0.7)\n",
    "plt.plot(x,y3,lw = 2, label = '1%', alpha = 0.7)\n",
    "plt.xlabel('Energy [MeV]')\n",
    "plt.ylabel('Arbitrary Units')\n",
    "plt.legend()\n",
    "plt.ylim(-1,70)\n",
    "plt.grid()\n",
    "plt.show()"
   ]
  },
  {
   "cell_type": "markdown",
   "id": "e98c9b2f",
   "metadata": {},
   "source": [
    "As a double check we assure that the integral under the curves is more or less the same. Obviously the areas will agree better as the integration step decreases."
   ]
  },
  {
   "cell_type": "code",
   "execution_count": null,
   "id": "1c54549e",
   "metadata": {},
   "outputs": [],
   "source": [
    "from numpy import trapz\n",
    "\n",
    "area = trapz(y, dx=dx)\n",
    "print(\"area (5%) =\", area)\n",
    "\n",
    "area = trapz(y1, dx=dx)\n",
    "print(\"area (10%)  =\", area)\n",
    "\n",
    "area = trapz(y2, dx=dx)\n",
    "print(\"area (30%) =\", area)\n",
    "\n",
    "area = trapz(y3, dx=dx)\n",
    "print(\"area (1%) =\", area)"
   ]
  },
  {
   "cell_type": "markdown",
   "id": "1d177318",
   "metadata": {},
   "source": [
    "## Optional part"
   ]
  },
  {
   "cell_type": "markdown",
   "id": "daffb588",
   "metadata": {},
   "source": [
    "As a simple optional spectrum we take a fac simile of the first 4 S-states of bottomonium ($\\Upsilon(1S), \\Upsilon(2S), \\Upsilon(3S), \\Upsilon(4S)$). The total width of the states is 100 times narrower than the plotted one for 1S,2S,3S. This has been done just to save computational time."
   ]
  },
  {
   "cell_type": "code",
   "execution_count": null,
   "id": "d4a320af",
   "metadata": {},
   "outputs": [],
   "source": [
    "def f(x):\n",
    "    y = 0.31*Gaussian(x,9.46030, 0.005402) + 0.08*Gaussian(x,10.02326, 0.003198) + 0.04*Gaussian(x,10.3552, 0.002032) + 0.1*Gaussian(x,10.5794, 0.0205)\n",
    "    return y"
   ]
  },
  {
   "cell_type": "code",
   "execution_count": null,
   "id": "ef78a5ac",
   "metadata": {},
   "outputs": [],
   "source": [
    "a = 9\n",
    "b = 11\n",
    "dx = 0.001\n",
    "x = np.arange(a,b,dx)\n",
    "plt.plot(x,f(x));"
   ]
  },
  {
   "cell_type": "code",
   "execution_count": null,
   "id": "06046697",
   "metadata": {},
   "outputs": [],
   "source": [
    "def integrand(t, x, percent):\n",
    "    return f(t)*Gaussian(t,x,percent*np.sqrt(x))\n",
    "\n",
    "\n",
    "\n",
    "def convolve(step, x0, percent):\n",
    "    dx = step\n",
    "    t = np.arange(8,12,step)\n",
    "    return np.sum(dx*integrand(t,x0,percent))\n",
    "\n",
    "vconvolve = vectorize(convolve)"
   ]
  },
  {
   "cell_type": "code",
   "execution_count": null,
   "id": "fb508d46",
   "metadata": {},
   "outputs": [],
   "source": [
    "step = 0.005\n",
    "y = vconvolve(step,x,0.05)\n",
    "y1=vconvolve(step, x,0.1)\n",
    "y2=vconvolve(step,x,0.3)\n",
    "y3=vconvolve(step,x,0.01)"
   ]
  },
  {
   "cell_type": "code",
   "execution_count": null,
   "id": "ca7de581",
   "metadata": {},
   "outputs": [],
   "source": [
    "matplotlib_inline.backend_inline.set_matplotlib_formats('svg')\n",
    "plt.title('Convolution of Bottomonium S states with a gaussian resolution')\n",
    "plt.plot(x, f(x),lw = 1, label = 'Truth')\n",
    "plt.plot(x, y,lw = 1, label = '5%')\n",
    "plt.plot(x,y1,lw = 1, label = '10%')\n",
    "plt.plot(x,y2,lw = 1, label = '30%')\n",
    "plt.plot(x,y3,lw = 1, label = '1%')\n",
    "plt.xlabel('Energy [GeV]')\n",
    "plt.ylabel('Arbitrary Units')\n",
    "plt.legend()\n",
    "plt.grid()\n",
    "plt.show()"
   ]
  }
 ],
 "metadata": {
  "kernelspec": {
   "display_name": "Python 3 (ipykernel)",
   "language": "python",
   "name": "python3"
  },
  "language_info": {
   "codemirror_mode": {
    "name": "ipython",
    "version": 3
   },
   "file_extension": ".py",
   "mimetype": "text/x-python",
   "name": "python",
   "nbconvert_exporter": "python",
   "pygments_lexer": "ipython3",
   "version": "3.10.9"
  }
 },
 "nbformat": 4,
 "nbformat_minor": 5
}
